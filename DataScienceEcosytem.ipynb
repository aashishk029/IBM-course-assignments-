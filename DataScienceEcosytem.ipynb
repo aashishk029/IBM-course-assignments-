{
 "cells": [
  {
   "cell_type": "markdown",
   "id": "bb4fbbdf-e1ed-4362-9354-160cf556fc2b",
   "metadata": {},
   "source": [
    "# Data Science tools and Ecosystem"
   ]
  },
  {
   "cell_type": "markdown",
   "id": "e4a327d9-fa13-49f9-83bc-18b13be781c6",
   "metadata": {},
   "source": [
    "## In this notebook, Data Science Tools and Ecosystem are summarized."
   ]
  },
  {
   "cell_type": "markdown",
   "id": "4f2c5cdf-432f-45bf-a374-95654bc2db99",
   "metadata": {},
   "source": [
    "### Some of the popular languages that Data Scientists use are:"
   ]
  },
  {
   "cell_type": "markdown",
   "id": "1148d213-cfb1-4902-9332-35290ad8424c",
   "metadata": {},
   "source": [
    "1. Python\n",
    "2. R\n",
    "3. SQL\n"
   ]
  },
  {
   "cell_type": "markdown",
   "id": "517a54be-a54f-4c69-9391-52437778571e",
   "metadata": {},
   "source": [
    "### Some of the commonly used libraries used by Data Scientists include:"
   ]
  },
  {
   "cell_type": "markdown",
   "id": "01076b27-e1c8-4006-821f-f5b10a0c4cc4",
   "metadata": {},
   "source": [
    "1. tensor flow \n",
    "2. keras \n",
    "3. Py torch\n"
   ]
  },
  {
   "cell_type": "markdown",
   "id": "d3551a4f-adf5-4cc5-b56e-710813e0db2d",
   "metadata": {},
   "source": [
    "### Data Science Tools."
   ]
  },
  {
   "cell_type": "markdown",
   "id": "9ced455d-39b7-498d-9bde-2b5b2915993a",
   "metadata": {},
   "source": [
    "| Tool           | Description                                |\n",
    "|----------------|--------------------------------------------|\n",
    "| Python         | Programming language commonly used in DS    |\n",
    "| R              | Statistical programming language            |\n",
    "| TensorFlow     | Open-source machine learning framework      |\n"
   ]
  },
  {
   "cell_type": "markdown",
   "id": "5d2e04b6-5c70-478f-93ae-f2812566b337",
   "metadata": {},
   "source": [
    "### Below are a few examples of evaluating arithmetic expressions in Python"
   ]
  },
  {
   "cell_type": "code",
   "execution_count": 3,
   "id": "38974e46-6679-450b-99df-0f07b4079804",
   "metadata": {},
   "outputs": [
    {
     "data": {
      "text/plain": [
       "17"
      ]
     },
     "execution_count": 3,
     "metadata": {},
     "output_type": "execute_result"
    }
   ],
   "source": [
    "(3*4)+5"
   ]
  },
  {
   "cell_type": "markdown",
   "id": "86ff8b78-1131-4931-84d6-fd5e173cd040",
   "metadata": {},
   "source": [
    "### This a simple arithmetic expression to mutiply then add integers."
   ]
  },
  {
   "cell_type": "code",
   "execution_count": 13,
   "id": "09cae336-a7df-4349-9191-dbba03e0fe00",
   "metadata": {},
   "outputs": [
    {
     "name": "stdout",
     "output_type": "stream",
     "text": [
      "200 minutes is equal to 3.3333333333333335 hours\n"
     ]
    }
   ],
   "source": [
    "# Define a variable for minutes\n",
    "minutes = 200\n",
    "\n",
    "# convert minutes into hours\n",
    "hours= minutes / 60\n",
    "\n",
    "# Print the result \n",
    "print(f\"{minutes} minutes is equal to {hours} hours\")"
   ]
  },
  {
   "cell_type": "markdown",
   "id": "29e67f60-02cf-4f40-90a5-203436d38b05",
   "metadata": {},
   "source": [
    "**Objectives:**\n",
    "\n",
    "- Introduce key libraries and frameworks in Data Science\n",
    "- Explain the process of data visualization using matplotlib and seaborn\n",
    "- Demonstrate basic data manipulation techniques using Pandas\n"
   ]
  },
  {
   "cell_type": "markdown",
   "id": "4b24e1d8-eebb-4098-995a-675312604db4",
   "metadata": {},
   "source": [
    "## Author\n",
    "\n",
    "Aashish kumar\n"
   ]
  },
  {
   "cell_type": "code",
   "execution_count": null,
   "id": "cbd33925-e8cd-408c-9ad3-f4d1f5bc56cf",
   "metadata": {},
   "outputs": [],
   "source": []
  }
 ],
 "metadata": {
  "kernelspec": {
   "display_name": "Python 3 (ipykernel)",
   "language": "python",
   "name": "python3"
  },
  "language_info": {
   "codemirror_mode": {
    "name": "ipython",
    "version": 3
   },
   "file_extension": ".py",
   "mimetype": "text/x-python",
   "name": "python",
   "nbconvert_exporter": "python",
   "pygments_lexer": "ipython3",
   "version": "3.11.5"
  }
 },
 "nbformat": 4,
 "nbformat_minor": 5
}
